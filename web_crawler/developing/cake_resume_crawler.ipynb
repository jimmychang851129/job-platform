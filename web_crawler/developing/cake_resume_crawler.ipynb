{
 "cells": [
  {
   "cell_type": "markdown",
   "metadata": {},
   "source": [
    "### 爬蟲思路和概念 :\n",
    "1. 先去要爬取的網站，打開F12 DevTool查看先關資訊\n",
    "2. 觀察自己想要爬取的資料，可以複製一段文字，到Elements中查看，放在HTML檔案種中的哪個地方\n",
    "3. 觀察Html Tag 和 css屬性，搭配 BS4進行爬取資訊\n",
    "\n",
    "#### 範例\n",
    "**爬取CakeResume的職缺資訊**\n",
    "1. 可以觀察到所有的職缺資訊都是使用div 把資料包起來的\n",
    "2. 會發現資料被包在一個叫做`JobSearchPage_searchResults__*`的裡面\n",
    "\n",
    "    ![](https://i.imgur.com/iYC1npE.png)\n",
    "3. 接著可以發現，所有的div container都叫做`JobSearchItem_Wrapper__*`，我們可以利用這個資訊進行資料的爬取\n",
    "\n",
    "    ![](https://i.imgur.com/tdhjgBG.png)\n",
    "\n",
    "爬取過程參照下列作法"
   ]
  },
  {
   "cell_type": "code",
   "execution_count": 4,
   "metadata": {},
   "outputs": [],
   "source": [
    "import requests\n",
    "from bs4 import BeautifulSoup\n",
    "import re\n",
    "import json\n",
    "import time\n"
   ]
  },
  {
   "cell_type": "code",
   "execution_count": 5,
   "metadata": {},
   "outputs": [],
   "source": [
    "url = 'https://www.cakeresume.com/jobs/categories/it/data-engineer?order=latest'\n",
    "\n",
    "response = requests.get(url)\n",
    "soup = BeautifulSoup(response.text, \"html.parser\")"
   ]
  },
  {
   "cell_type": "code",
   "execution_count": 6,
   "metadata": {},
   "outputs": [
    {
     "data": {
      "text/plain": [
       "10"
      ]
     },
     "execution_count": 6,
     "metadata": {},
     "output_type": "execute_result"
    }
   ],
   "source": [
    "searchResult = soup.find_all('div', class_ = re.compile(r'JobSearchPage_searchResults__*'))  \n",
    "searchList = soup.find_all('div', class_ = re.compile(r'JobSearchHits_list__*'))\n",
    "searchItem = soup.find_all('div', class_ = re.compile(r'JobSearchItem_wrapper__*'))\n",
    "len(searchItem)  # 表示這頁中有13個職缺資料，後續須對這些資料進行清洗"
   ]
  },
  {
   "cell_type": "markdown",
   "metadata": {},
   "source": [
    "### 查看div 中的資料樣態\n",
    "1. 職稱: 放在`JobSearchItem_headerTitle__*`\n",
    "2. 公司名稱: 放在`JobSearchItem_headerSubtitle__*`\n",
    "3. 公司簡介: 放在`JobSearchItem_description__*`\n",
    "4. Job tag: 放在`JobSearchItem_tags__*`\n",
    "5. 職缺性質: 放在`JobSearchItem_features__*`\n"
   ]
  },
  {
   "cell_type": "code",
   "execution_count": 7,
   "metadata": {},
   "outputs": [],
   "source": [
    "processing = searchItem[0]\n",
    "url_domain = 'https://www.cakeresume.com'\n",
    "job_link = url_domain + (processing.find('div', class_ = re.compile(r'JobSearchItem_headerTitle__*')).find('a', href = True))['href']\n",
    "job_title = processing.find('div', class_ = re.compile(r'JobSearchItem_headerTitle__*')).getText()\n",
    "company = processing.find('div', class_ = re.compile(r'JobSearchItem_headerSubtitle__*')).getText()\n",
    "important_skill = []\n",
    "tags = processing.find('div', class_ = re.compile(r'JobSearchItem_tags__*'))\n",
    "if tags:\n",
    "    tags = tags.find_all('div', class_ = re.compile(r'Tags_item__*'))\n",
    "    for tag in tags:\n",
    "        if tag.text != '':\n",
    "            important_skill.append(tag.text)\n",
    "\n",
    "    jon_feature_soup = processing.find('div', class_ = re.compile(r'JobSearchItem_features__*'))\n"
   ]
  },
  {
   "cell_type": "code",
   "execution_count": 8,
   "metadata": {},
   "outputs": [
    {
     "name": "stdout",
     "output_type": "stream",
     "text": [
      "https://www.cakeresume.com/companies/realtek-semiconductor/jobs/b8b624\n",
      "PC Camera演算法開發工程師/專案技術主管(臺北大直)\n",
      "Realtek 瑞昱半導體\n",
      "['C/C++', 'Matlab', 'Camera']\n"
     ]
    }
   ],
   "source": [
    "print(job_link)\n",
    "print(job_title)\n",
    "print(company)\n",
    "print(important_skill)"
   ]
  },
  {
   "cell_type": "code",
   "execution_count": 9,
   "metadata": {},
   "outputs": [
    {
     "name": "stdout",
     "output_type": "stream",
     "text": [
      "tpye: 5 label: 5\n",
      "[<div class=\"InlineMessage_label__hP3Fk\">1<div class=\"SeparatorDot_dot__rrEYX\">・</div><div class=\"JobSearchItem_featureSegments__I1Csc\"><div><a class=\"Button_button__N4TAn Button_buttonLinkGreen__i7ru_ Button_buttonSmall__PsSMK Button_buttonNoPadding___8Dm0\" href=\"/jobs?profession%5B0%5D=it_data-engineer&amp;job_type%5B0%5D=full_time&amp;order=latest\"><div class=\"Button_buttonContent__arBxx\"><div class=\"Button_buttonContentMain__afmnj\">Full-time</div></div></a></div><div class=\"SeparatorDot_dot__rrEYX\">・</div><div><a class=\"Button_button__N4TAn Button_buttonLinkGreen__i7ru_ Button_buttonSmall__PsSMK Button_buttonNoPadding___8Dm0\" href=\"/jobs?profession%5B0%5D=it_data-engineer&amp;seniority_level%5B0%5D=mid_senior_level&amp;order=latest\"><div class=\"Button_buttonContent__arBxx\"><div class=\"Button_buttonContentMain__afmnj\">Mid-Senior level</div></div></a></div></div></div>, <div class=\"InlineMessage_label__hP3Fk\"><div class=\"JobSearchItem_featureSegments__I1Csc\"><a class=\"JobSearchItem_featureSegmentLink__0qG7L\" href=\"/jobs?location_list%5B0%5D=%E5%8F%B0%E7%81%A3%E5%8F%B0%E5%8C%97&amp;profession%5B0%5D=it_data-engineer&amp;order=latest\">台灣台北</a></div></div>, <div class=\"InlineMessage_label__hP3Fk\">90K ~ 150K TWD / month</div>, <div class=\"InlineMessage_label__hP3Fk\">3 years of experience required</div>, <div class=\"InlineMessage_label__hP3Fk\">Managing 1-5 staff</div>]\n"
     ]
    }
   ],
   "source": [
    "job_feature_soup = processing.find('div', class_ = re.compile(r'JobSearchItem_features__*'))\n",
    "inline_messages_type = job_feature_soup.find_all('div', class_ = re.compile(r'InlineMessage_icon__*'))\n",
    "inline_messages = job_feature_soup.find_all('div', class_ = re.compile(r'InlineMessage_label__*'))\n",
    "print(f'tpye: {len(inline_messages_type)} label: {len(inline_messages)}')\n",
    "print(inline_messages)"
   ]
  },
  {
   "cell_type": "code",
   "execution_count": 10,
   "metadata": {},
   "outputs": [
    {
     "name": "stdout",
     "output_type": "stream",
     "text": [
      "user\n",
      "map-marker-alt\n",
      "dollar-sign\n",
      "business-time\n",
      "sitemap\n"
     ]
    }
   ],
   "source": [
    "for inline_message in inline_messages_type:\n",
    "    class_type = inline_message.find('div', class_ = re.compile(r'Tooltip_handle__*')).find('i', class_ = True)['class']\n",
    "    print(class_type[1][3:])"
   ]
  },
  {
   "cell_type": "code",
   "execution_count": 11,
   "metadata": {},
   "outputs": [
    {
     "name": "stdout",
     "output_type": "stream",
     "text": [
      "1・Full-time・Mid-Senior level\n",
      "台灣台北\n",
      "90K ~ 150K TWD / month\n",
      "3 years of experience required\n",
      "Managing 1-5 staff\n"
     ]
    }
   ],
   "source": [
    "for inline_message in inline_messages:\n",
    "    print(inline_message.text)"
   ]
  },
  {
   "cell_type": "code",
   "execution_count": 12,
   "metadata": {},
   "outputs": [
    {
     "data": {
      "text/plain": [
       "{'user': '1・Full-time・Mid-Senior level',\n",
       " 'map-marker-alt': '台灣台北',\n",
       " 'dollar-sign': '90K ~ 150K TWD / month',\n",
       " 'business-time': '3 years of experience required',\n",
       " 'sitemap': 'Managing 1-5 staff'}"
      ]
     },
     "execution_count": 12,
     "metadata": {},
     "output_type": "execute_result"
    }
   ],
   "source": [
    "feature = {}\n",
    "if len(inline_messages) == len(inline_messages_type):\n",
    "    for i in range(len(inline_messages)):\n",
    "        type = (inline_messages_type[i].find('div', class_ = re.compile(r'Tooltip_handle__*')).find('i', class_ = True)['class'])[1][3:]\n",
    "        label = inline_messages[i].text\n",
    "        feature[type] = label\n",
    "\n",
    "feature"
   ]
  },
  {
   "cell_type": "markdown",
   "metadata": {},
   "source": [
    "爬蟲程式設計，建立爬蟲Pipline以及資料清洗及整理的方式"
   ]
  },
  {
   "cell_type": "code",
   "execution_count": 13,
   "metadata": {},
   "outputs": [],
   "source": [
    "def get_soup(url):\n",
    "    response = requests.get(url)\n",
    "    soup = BeautifulSoup(response.text, \"html.parser\")\n",
    "    if soup:\n",
    "        print(\"Success\")\n",
    "        return soup\n",
    "    else:\n",
    "        print(\"Fail\")\n",
    "        return None\n",
    "\n",
    "def get_searchItem(soup):\n",
    "    searchItem = soup.find_all('div', class_ = re.compile(r'JobSearchItem_wrapper__*'))\n",
    "    print(f\"There are {len(searchItem)} jobs in this page.\")\n",
    "    return searchItem\n",
    "\n",
    "def get_job_link_and_title(item):\n",
    "    url_domain = 'https://www.cakeresume.com'\n",
    "    job_title = item.find('div', class_ = re.compile(r'JobSearchItem_headerTitle__*')).getText()\n",
    "    job_link = url_domain + (item.find('div', class_ = re.compile(r'JobSearchItem_headerTitle__*')).find('a', href = True))['href']\n",
    "    return job_link, job_title\n",
    "\n",
    "def get_company_name(item):\n",
    "    company_name = item.find('div', class_ = re.compile(r'JobSearchItem_headerSubtitle__*')).getText()\n",
    "    return company_name\n",
    "\n",
    "def get_skill_set(item):\n",
    "    if item.find('div', class_ = re.compile(r'JobSearchItem_tags__*')):\n",
    "        skill_set = []\n",
    "        tags = item.find('div', class_ = re.compile(r'JobSearchItem_tags__*')).find_all('div', class_ = re.compile(r'Tags_item__*'))\n",
    "        for tag in tags:\n",
    "            if tag.text != '':\n",
    "                skill_set.append(tag.text)\n",
    "        return skill_set\n",
    "    else:\n",
    "        return \"\"\n",
    "\n",
    "def get_feature(item):\n",
    "    job_features = item.find('div', class_ = re.compile(r'JobSearchItem_features__*'))\n",
    "    inline_messages_type = job_feature_soup.find_all('div', class_ = re.compile(r'InlineMessage_icon__*'))\n",
    "    inline_messages = job_feature_soup.find_all('div', class_ = re.compile(r'InlineMessage_label__*'))  \n",
    "    print(f'type: {len(inline_messages_type)}  label: {len(inline_messages)}')\n",
    "    feature = {}\n",
    "    if len(inline_messages) == len(inline_messages_type):\n",
    "        for i in range(len(inline_messages)):\n",
    "            type = (inline_messages_type[i].find('div', class_ = re.compile(r'Tooltip_handle__*')).find('i', class_ = True)['class'])[1][3:]\n",
    "            label = inline_messages[i].text\n",
    "            feature[type] = label\n",
    "    print(feature)\n",
    "    return feature\n",
    "\n",
    "def arrange_the_data(job_link, job_title, company_name, skill_set, feature):\n",
    "    job_info = []\n",
    "    if job_link != \"\":\n",
    "        job_info.append(job_link)\n",
    "    else:\n",
    "        job_info.append(\"\")\n",
    "\n",
    "    if job_title != \"\":\n",
    "        job_info.append(job_title)\n",
    "    else:\n",
    "        job_info.append(\"\")   \n",
    "\n",
    "    if company_name != \"\":\n",
    "        job_info.append(company_name)\n",
    "    else:\n",
    "        job_info.append(\"\")\n",
    "        \n",
    "    if skill_set != \"\":\n",
    "        job_info.append(skill_set)\n",
    "    else:\n",
    "        job_info.append(\"\")\n",
    "        \n",
    "    if \"user\" in feature.keys():\n",
    "        job_info.append(feature['user'])\n",
    "    else:\n",
    "        job_info.append(\"\")\n",
    "        \n",
    "    if \"map-marker-alt\" in feature.keys():\n",
    "        job_info.append(feature['map-marker-alt'])\n",
    "    else:\n",
    "        job_info.append(\"\")     \n",
    "           \n",
    "    if \"dollar-sign\" in feature.keys():\n",
    "        job_info.append(feature['dollar-sign'])\n",
    "    else:\n",
    "        job_info.append(\"\")        \n",
    "\n",
    "    if \"business-time\" in feature.keys():\n",
    "        job_info.append(feature['business-time'])\n",
    "    else:\n",
    "        job_info.append(\"\")        \n",
    "\n",
    "    if \"sitemap\" in feature.keys():\n",
    "        job_info.append(feature['sitemap'])\n",
    "    else:\n",
    "        job_info.append(\"\")        \n",
    "\n",
    "    return job_info"
   ]
  },
  {
   "cell_type": "code",
   "execution_count": 14,
   "metadata": {},
   "outputs": [
    {
     "name": "stdout",
     "output_type": "stream",
     "text": [
      "Success\n",
      "There are 10 jobs in this page.\n",
      "type: 5  label: 5\n",
      "{'user': '1・Full-time・Mid-Senior level', 'map-marker-alt': '台灣台北', 'dollar-sign': '90K ~ 150K TWD / month', 'business-time': '3 years of experience required', 'sitemap': 'Managing 1-5 staff'}\n",
      "['https://www.cakeresume.com/companies/realtek-semiconductor/jobs/b8b624', 'PC Camera演算法開發工程師/專案技術主管(臺北大直)', 'Realtek 瑞昱半導體', ['C/C++', 'Matlab', 'Camera'], '1・Full-time・Mid-Senior level', '台灣台北', '90K ~ 150K TWD / month', '3 years of experience required', 'Managing 1-5 staff']\n",
      "type: 5  label: 5\n",
      "{'user': '1・Full-time・Mid-Senior level', 'map-marker-alt': '台灣台北', 'dollar-sign': '90K ~ 150K TWD / month', 'business-time': '3 years of experience required', 'sitemap': 'Managing 1-5 staff'}\n",
      "['https://www.cakeresume.com/companies/tkb/jobs/it-data-analysis-engineer', '【IT】數據分析工程師', '台灣知識庫股份有限公司', '', '1・Full-time・Mid-Senior level', '台灣台北', '90K ~ 150K TWD / month', '3 years of experience required', 'Managing 1-5 staff']\n",
      "type: 5  label: 5\n",
      "{'user': '1・Full-time・Mid-Senior level', 'map-marker-alt': '台灣台北', 'dollar-sign': '90K ~ 150K TWD / month', 'business-time': '3 years of experience required', 'sitemap': 'Managing 1-5 staff'}\n",
      "['https://www.cakeresume.com/companies/paradise-soft/jobs/rd-game-numerical-engineer', '[RD] 遊戲數值工程師', '天堂遊戲有限公司', '', '1・Full-time・Mid-Senior level', '台灣台北', '90K ~ 150K TWD / month', '3 years of experience required', 'Managing 1-5 staff']\n",
      "type: 5  label: 5\n",
      "{'user': '1・Full-time・Mid-Senior level', 'map-marker-alt': '台灣台北', 'dollar-sign': '90K ~ 150K TWD / month', 'business-time': '3 years of experience required', 'sitemap': 'Managing 1-5 staff'}\n",
      "['https://www.cakeresume.com/companies/paypay/jobs/data-engineer-bf5cc9', 'Data Engineer', 'PayPay Corporation', ['Java', 'Scala', 'Python'], '1・Full-time・Mid-Senior level', '台灣台北', '90K ~ 150K TWD / month', '3 years of experience required', 'Managing 1-5 staff']\n",
      "type: 5  label: 5\n",
      "{'user': '1・Full-time・Mid-Senior level', 'map-marker-alt': '台灣台北', 'dollar-sign': '90K ~ 150K TWD / month', 'business-time': '3 years of experience required', 'sitemap': 'Managing 1-5 staff'}\n",
      "['https://www.cakeresume.com/companies/fazz-financial-group/jobs/data-engineer-data-warehouse', '資料工程師 Data Engineer -Data Warehouse (remote; TW)', '新加坡商迅星金融科技有限公司台灣分公司（Fazz Financial Group）', ['Data Warehouse', 'AWS', 'GCP'], '1・Full-time・Mid-Senior level', '台灣台北', '90K ~ 150K TWD / month', '3 years of experience required', 'Managing 1-5 staff']\n",
      "type: 5  label: 5\n",
      "{'user': '1・Full-time・Mid-Senior level', 'map-marker-alt': '台灣台北', 'dollar-sign': '90K ~ 150K TWD / month', 'business-time': '3 years of experience required', 'sitemap': 'Managing 1-5 staff'}\n",
      "['https://www.cakeresume.com/companies/linkernetworks/jobs/machine-learning-engineer-8f67de', '機器學習工程師 Machine Learning Engineer (Inference, Computer Vision)', 'Linker Networks Inc. 美商寶蘊凌科網路科技有限公司台灣分公司', ['machine learning', 'deep learning', 'Python'], '1・Full-time・Mid-Senior level', '台灣台北', '90K ~ 150K TWD / month', '3 years of experience required', 'Managing 1-5 staff']\n",
      "type: 5  label: 5\n",
      "{'user': '1・Full-time・Mid-Senior level', 'map-marker-alt': '台灣台北', 'dollar-sign': '90K ~ 150K TWD / month', 'business-time': '3 years of experience required', 'sitemap': 'Managing 1-5 staff'}\n",
      "['https://www.cakeresume.com/companies/glory-information-ltd/jobs/data-engineer-8c993f', 'Data Engineer 資料工程師', 'Glory Information Ltd.', ['MySQL', 'Airflow', 'Data Pipeline'], '1・Full-time・Mid-Senior level', '台灣台北', '90K ~ 150K TWD / month', '3 years of experience required', 'Managing 1-5 staff']\n",
      "type: 5  label: 5\n",
      "{'user': '1・Full-time・Mid-Senior level', 'map-marker-alt': '台灣台北', 'dollar-sign': '90K ~ 150K TWD / month', 'business-time': '3 years of experience required', 'sitemap': 'Managing 1-5 staff'}\n",
      "['https://www.cakeresume.com/companies/alpha-camp/jobs/3400f4', 'Data Engineer 養成系列線上課程助教/講師 (Part-time)', 'ALPHA Camp', ['助教', '線上課程', '科技'], '1・Full-time・Mid-Senior level', '台灣台北', '90K ~ 150K TWD / month', '3 years of experience required', 'Managing 1-5 staff']\n",
      "type: 5  label: 5\n",
      "{'user': '1・Full-time・Mid-Senior level', 'map-marker-alt': '台灣台北', 'dollar-sign': '90K ~ 150K TWD / month', 'business-time': '3 years of experience required', 'sitemap': 'Managing 1-5 staff'}\n",
      "['https://www.cakeresume.com/companies/mexctaiwan/jobs/financial-data-analyst-financial-data-analyst', 'Financial Data Analyst | 財務數據分析師', 'MEXC Taiwan', ['Python', 'SQL', 'Power BI'], '1・Full-time・Mid-Senior level', '台灣台北', '90K ~ 150K TWD / month', '3 years of experience required', 'Managing 1-5 staff']\n",
      "type: 5  label: 5\n",
      "{'user': '1・Full-time・Mid-Senior level', 'map-marker-alt': '台灣台北', 'dollar-sign': '90K ~ 150K TWD / month', 'business-time': '3 years of experience required', 'sitemap': 'Managing 1-5 staff'}\n",
      "['https://www.cakeresume.com/companies/mynavi/jobs/marketing-data-analyst-031f05', '行銷數據分析工程師', 'Mynavi 台灣邁那比股份有限公司', ['Python', 'R', 'SQL'], '1・Full-time・Mid-Senior level', '台灣台北', '90K ~ 150K TWD / month', '3 years of experience required', 'Managing 1-5 staff']\n"
     ]
    }
   ],
   "source": [
    "url = \"https://www.cakeresume.com/jobs/categories/it/data-engineer?order=latest\"\n",
    "\n",
    "\n",
    "def get_job_info(url):\n",
    "    soup = get_soup(url)\n",
    "    if soup != \"\":\n",
    "        searchItems = get_searchItem(soup)\n",
    "        job_infos = []\n",
    "        for search_item in searchItems:\n",
    "            job_link, job_title = get_job_link_and_title(search_item)\n",
    "            company_name = get_company_name(search_item)\n",
    "            skill_set = get_skill_set(search_item)\n",
    "            feature = get_feature(search_item)\n",
    "            job_info = arrange_the_data(job_link, job_title, company_name, skill_set, feature)\n",
    "            job_infos.append(job_info)\n",
    "            print(job_info)\n"
   ]
  },
  {
   "cell_type": "markdown",
   "metadata": {},
   "source": [
    "設計非日常爬蟲，初始化時該如何找到下一頁的function\n",
    "我們的思路是每次進到一個爬蟲頁面後，找到下一頁的網址，直到找不到為止。\n",
    "一樣借由開發人員工具(F12)來檢視網頁的規律，會發現頁碼的資訊放在`JobSearchPage_searchPagination__*`，\n",
    "\n",
    "![](https://i.imgur.com/ldb3F5v.png)\n",
    "\n",
    "接著我們可以發現，`>`下一頁符號的資訊放在`Pagination_itemNavigation__*`中href中。\n",
    "\n",
    "![](https://i.imgur.com/VF6PebC.png)\n"
   ]
  },
  {
   "cell_type": "code",
   "execution_count": 15,
   "metadata": {},
   "outputs": [
    {
     "data": {
      "text/plain": [
       "<div class=\"Pagination_wrapper__AEWI_\"><div class=\"Pagination_itemNavigation__wHk0M Pagination_itemDisabled__jrhUA\"><i class=\"fa fa-chevron-left\"></i></div><a class=\"Pagination_itemNumber__5L1fV Pagination_itemActive___SZIW\" href=\"https://www.cakeresume.com/jobs/categories/it/data-engineer?order=latest\">1</a><a class=\"Pagination_itemNumber__5L1fV\" href=\"https://www.cakeresume.com/jobs/categories/it/data-engineer?order=latest&amp;page=2\">2</a><a class=\"Pagination_itemNumber__5L1fV\" href=\"https://www.cakeresume.com/jobs/categories/it/data-engineer?order=latest&amp;page=3\">3</a><a class=\"Pagination_itemNumber__5L1fV\" href=\"https://www.cakeresume.com/jobs/categories/it/data-engineer?order=latest&amp;page=4\">4</a><a class=\"Pagination_itemNumber__5L1fV\" href=\"https://www.cakeresume.com/jobs/categories/it/data-engineer?order=latest&amp;page=5\">5</a><a class=\"Pagination_itemNumber__5L1fV\" href=\"https://www.cakeresume.com/jobs/categories/it/data-engineer?order=latest&amp;page=6\">6</a><a class=\"Pagination_itemNumber__5L1fV\" href=\"https://www.cakeresume.com/jobs/categories/it/data-engineer?order=latest&amp;page=7\">7</a><a class=\"Pagination_itemNumber__5L1fV\" href=\"https://www.cakeresume.com/jobs/categories/it/data-engineer?order=latest&amp;page=8\">8</a><a class=\"Pagination_itemNumber__5L1fV\" href=\"https://www.cakeresume.com/jobs/categories/it/data-engineer?order=latest&amp;page=9\">9</a><div class=\"Pagination_itemEllipsis__WiU0R\"><i class=\"fa fa-ellipsis-h\"></i></div><a class=\"Pagination_itemNavigation__wHk0M\" href=\"https://www.cakeresume.com/jobs/categories/it/data-engineer?order=latest&amp;page=2\"><i class=\"fa fa-chevron-right\"></i></a></div>"
      ]
     },
     "execution_count": 15,
     "metadata": {},
     "output_type": "execute_result"
    }
   ],
   "source": [
    "url = 'https://www.cakeresume.com/jobs/categories/it/data-engineer?order=latest'\n",
    "\n",
    "response = requests.get(url)\n",
    "soup = BeautifulSoup(response.text, \"html.parser\")\n",
    "\n",
    "next_page = soup.find('div', class_ = re.compile(r'Pagination_wrapper__*'))\n",
    "next_page"
   ]
  },
  {
   "cell_type": "code",
   "execution_count": 16,
   "metadata": {},
   "outputs": [
    {
     "data": {
      "text/plain": [
       "'https://www.cakeresume.com/jobs/categories/it/data-engineer?order=latest&page=2'"
      ]
     },
     "execution_count": 16,
     "metadata": {},
     "output_type": "execute_result"
    }
   ],
   "source": [
    "next_page_link = next_page.find_all('a', class_ = re.compile(r'Pagination_itemNavigation__*'), href = True)\n",
    "next_page_link[0]['href']"
   ]
  },
  {
   "cell_type": "code",
   "execution_count": 17,
   "metadata": {},
   "outputs": [
    {
     "data": {
      "text/plain": [
       "<div class=\"Pagination_wrapper__AEWI_\"><a class=\"Pagination_itemNavigation__wHk0M\" href=\"https://www.cakeresume.com/jobs/python?profession%5B0%5D=it_back-end-engineer&amp;order=latest\"><i class=\"fa fa-chevron-left\"></i></a><a class=\"Pagination_itemNumber__5L1fV\" href=\"https://www.cakeresume.com/jobs/python?profession%5B0%5D=it_back-end-engineer&amp;order=latest\">1</a><a class=\"Pagination_itemNumber__5L1fV Pagination_itemActive___SZIW\" href=\"https://www.cakeresume.com/jobs/python?profession%5B0%5D=it_back-end-engineer&amp;order=latest&amp;page=2\">2</a><a class=\"Pagination_itemNumber__5L1fV\" href=\"https://www.cakeresume.com/jobs/python?profession%5B0%5D=it_back-end-engineer&amp;order=latest&amp;page=3\">3</a><a class=\"Pagination_itemNumber__5L1fV\" href=\"https://www.cakeresume.com/jobs/python?profession%5B0%5D=it_back-end-engineer&amp;order=latest&amp;page=4\">4</a><a class=\"Pagination_itemNumber__5L1fV\" href=\"https://www.cakeresume.com/jobs/python?profession%5B0%5D=it_back-end-engineer&amp;order=latest&amp;page=5\">5</a><a class=\"Pagination_itemNumber__5L1fV\" href=\"https://www.cakeresume.com/jobs/python?profession%5B0%5D=it_back-end-engineer&amp;order=latest&amp;page=6\">6</a><a class=\"Pagination_itemNumber__5L1fV\" href=\"https://www.cakeresume.com/jobs/python?profession%5B0%5D=it_back-end-engineer&amp;order=latest&amp;page=7\">7</a><a class=\"Pagination_itemNumber__5L1fV\" href=\"https://www.cakeresume.com/jobs/python?profession%5B0%5D=it_back-end-engineer&amp;order=latest&amp;page=8\">8</a><a class=\"Pagination_itemNumber__5L1fV\" href=\"https://www.cakeresume.com/jobs/python?profession%5B0%5D=it_back-end-engineer&amp;order=latest&amp;page=9\">9</a><div class=\"Pagination_itemEllipsis__WiU0R\"><i class=\"fa fa-ellipsis-h\"></i></div><a class=\"Pagination_itemNavigation__wHk0M\" href=\"https://www.cakeresume.com/jobs/python?profession%5B0%5D=it_back-end-engineer&amp;order=latest&amp;page=3\"><i class=\"fa fa-chevron-right\"></i></a></div>"
      ]
     },
     "execution_count": 17,
     "metadata": {},
     "output_type": "execute_result"
    }
   ],
   "source": [
    "# Check if there is no next page\n",
    "url = 'https://www.cakeresume.com/jobs/python?profession%5B0%5D=it_back-end-engineer&order=latest&page=2'\n",
    "\n",
    "response = requests.get(url)\n",
    "soup = BeautifulSoup(response.text, \"html.parser\")\n",
    "\n",
    "next_page = soup.find('div', class_ = re.compile(r'Pagination_wrapper__*'))\n",
    "next_page"
   ]
  },
  {
   "cell_type": "code",
   "execution_count": 18,
   "metadata": {},
   "outputs": [
    {
     "data": {
      "text/plain": [
       "'https://www.cakeresume.com/jobs/python?profession%5B0%5D=it_back-end-engineer&order=latest&page=3'"
      ]
     },
     "execution_count": 18,
     "metadata": {},
     "output_type": "execute_result"
    }
   ],
   "source": [
    "next_page_link = next_page.find_all('a', class_ = re.compile(r'Pagination_itemNavigation__*'))\n",
    "next_page_link[1]['href']"
   ]
  },
  {
   "cell_type": "markdown",
   "metadata": {},
   "source": [
    "設計初始化DB的爬蟲\n"
   ]
  },
  {
   "cell_type": "code",
   "execution_count": 34,
   "metadata": {},
   "outputs": [],
   "source": [
    "def find_next_page(soup):\n",
    "    next_page = soup.find('div', class_ = re.compile(r'Pagination_wrapper__*'))\n",
    "    next_page_link = next_page.find_all('a', class_ = re.compile(r'Pagination_itemNavigation__*'), href = True)\n",
    "    if next_page_link:\n",
    "        if len(next_page_link) == 2:\n",
    "            return next_page_link[1]['href']\n",
    "        else :\n",
    "            return next_page_link[0]['href']\n",
    "    else:\n",
    "        next_page_link = next_page.find_all('a', class_ = re.compile(r'Pagination_itemNumber__*'), href = True)\n",
    "        return next_page_link[0]['href']"
   ]
  },
  {
   "cell_type": "code",
   "execution_count": 35,
   "metadata": {},
   "outputs": [
    {
     "name": "stdout",
     "output_type": "stream",
     "text": [
      "Success\n",
      "https://www.cakeresume.com/jobs/python?profession%5B0%5D=management-business_data-analyst&order=latest\n"
     ]
    }
   ],
   "source": [
    "job_types = ['it_back-end-engineer', 'it_data-engineer', 'it_data-scientist', 'it_machine-learning-engineer', 'it_qa-test-engineer', 'management-business_data-analyst']\n",
    "location = 'latest'\n",
    "url_data = []\n",
    "\n",
    "for job_type in job_types:\n",
    "    time.sleep(10)\n",
    "    url = f'https://www.cakeresume.com/jobs/python?profession%5B0%5D={job_type}&order={location}'\n",
    "    url_data.append(url)\n",
    "    soup = get_soup(url)\n",
    "    while True:\n",
    "        next_page_link = find_next_page(soup)\n",
    "        print(next_page_link)\n",
    "        if next_page_link in url_data:\n",
    "            break\n",
    "        else:\n",
    "            url_data.append(next_page_link)\n",
    "            soup = get_soup(next_page_link)\n",
    "        "
   ]
  },
  {
   "cell_type": "code",
   "execution_count": null,
   "metadata": {},
   "outputs": [
    {
     "ename": "",
     "evalue": "",
     "output_type": "error",
     "traceback": [
      "\u001b[1;31mRunning cells with 'Python 3.7.9 64-bit' requires ipykernel package.\n",
      "\u001b[1;31mRun the following command to install 'ipykernel' into the Python environment. \n",
      "\u001b[1;31mCommand: '\"c:/Users/Kevin Lin/AppData/Local/Programs/Python/Python37/python.exe\" -m pip install ipykernel -U --user --force-reinstall'"
     ]
    }
   ],
   "source": [
    "url_data"
   ]
  }
 ],
 "metadata": {
  "kernelspec": {
   "display_name": "Python 3.7.9 64-bit",
   "language": "python",
   "name": "python3"
  },
  "language_info": {
   "codemirror_mode": {
    "name": "ipython",
    "version": 3
   },
   "file_extension": ".py",
   "mimetype": "text/x-python",
   "name": "python",
   "nbconvert_exporter": "python",
   "pygments_lexer": "ipython3",
   "version": "3.7.9"
  },
  "orig_nbformat": 4,
  "vscode": {
   "interpreter": {
    "hash": "a54abe1e8d6ff2e37ef83657f19da3635e932fa9326df71fb273548649f152a9"
   }
  }
 },
 "nbformat": 4,
 "nbformat_minor": 2
}
